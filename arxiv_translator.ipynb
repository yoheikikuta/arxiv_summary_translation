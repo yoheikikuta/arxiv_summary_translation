{
 "cells": [
  {
   "cell_type": "markdown",
   "metadata": {
    "deletable": true,
    "editable": true
   },
   "source": [
    "# Arxiv summary auto translation"
   ]
  },
  {
   "cell_type": "markdown",
   "metadata": {
    "deletable": true,
    "editable": true
   },
   "source": [
    "## Set up"
   ]
  },
  {
   "cell_type": "markdown",
   "metadata": {
    "deletable": true,
    "editable": true
   },
   "source": [
    "import modules."
   ]
  },
  {
   "cell_type": "code",
   "execution_count": 1,
   "metadata": {
    "collapsed": false,
    "deletable": true,
    "editable": true
   },
   "outputs": [],
   "source": [
    "import os\n",
    "\n",
    "from modules.DataArxiv import get_date\n",
    "from modules.DataArxiv import execute_query\n",
    "from modules.Translate import Translate"
   ]
  },
  {
   "cell_type": "markdown",
   "metadata": {
    "deletable": true,
    "editable": true
   },
   "source": [
    "Set credentials.<br>\n",
    "**Need to prepare the credentials file form GCP console.**"
   ]
  },
  {
   "cell_type": "code",
   "execution_count": 2,
   "metadata": {
    "collapsed": true,
    "deletable": true,
    "editable": true
   },
   "outputs": [],
   "source": [
    "CREDENTIALS_JSON = \"credentials.json\"\n",
    "\n",
    "CREDENTIALS_PATH = os.path.normpath(\n",
    "    os.path.join(os.getcwd(), CREDENTIALS_JSON)\n",
    ")\n",
    "\n",
    "os.environ['GOOGLE_APPLICATION_CREDENTIALS'] = CREDENTIALS_PATH"
   ]
  },
  {
   "cell_type": "markdown",
   "metadata": {
    "collapsed": true,
    "deletable": true,
    "editable": true
   },
   "source": [
    "Set the dates.<br>\n",
    "No argument leads to set today as the reference date.<br>\n",
    "You can set the reference data like '20150417' and days we go back."
   ]
  },
  {
   "cell_type": "code",
   "execution_count": 3,
   "metadata": {
    "collapsed": false,
    "deletable": true,
    "editable": true
   },
   "outputs": [],
   "source": [
    "REF_DATE, PREV_DATE = get_date()\n",
    "#REF_DATE, PREV_DATE = get_date(baseday='20170420', beforeNdays=7)"
   ]
  },
  {
   "cell_type": "markdown",
   "metadata": {
    "deletable": true,
    "editable": true
   },
   "source": [
    "Category list.<br>\n",
    "Set the category key you would like to check.<br>\n",
    "You can add categories by following https://arxiv.org/help/api/user-manual#subject_classifications."
   ]
  },
  {
   "cell_type": "code",
   "execution_count": 4,
   "metadata": {
    "collapsed": true,
    "deletable": true,
    "editable": true
   },
   "outputs": [],
   "source": [
    "CATEGORY_LIST = {\n",
    "    'ml' : [\"cat:stat.ML\",\"cat:cs.AI\",\"cat:cs.CC\",\"cat:cs.CE\",\"cat:cs.CG\",\"cat:cs.CV\",\"cat:cs.DC\",\"cat:cs.IR\",\"cat:cs.IT\",\"cat:cs.NE\"]\n",
    "    , 'ph' : [\"hep-ph\"]\n",
    "    , 'th' : [\"hep-th\"]\n",
    "}\n",
    "\n",
    "CATEGORY_KEY = 'ml'"
   ]
  },
  {
   "cell_type": "markdown",
   "metadata": {
    "deletable": true,
    "editable": true
   },
   "source": [
    "Set the query.<br>\n",
    "How to make a query : https://arxiv.org/help/api/index#about"
   ]
  },
  {
   "cell_type": "code",
   "execution_count": 5,
   "metadata": {
    "collapsed": true,
    "deletable": true,
    "editable": true
   },
   "outputs": [],
   "source": [
    "CATEGORY = \"+OR+\".join(CATEGORY_LIST[CATEGORY_KEY])\n",
    "\n",
    "QUERY = '''({})+AND+submittedDate:[{}0000+TO+{}0000]'''.format(\n",
    "    CATEGORY,PREV_DATE,REF_DATE\n",
    ")"
   ]
  },
  {
   "cell_type": "markdown",
   "metadata": {
    "deletable": true,
    "editable": true
   },
   "source": [
    "Get bulk data from arXiv."
   ]
  },
  {
   "cell_type": "code",
   "execution_count": 6,
   "metadata": {
    "collapsed": false,
    "deletable": true,
    "editable": true
   },
   "outputs": [],
   "source": [
    "BULK = execute_query(QUERY, prune=True, start=0, max_results=200)"
   ]
  },
  {
   "cell_type": "markdown",
   "metadata": {
    "deletable": true,
    "editable": true
   },
   "source": [
    "Set target language and create the instance.<br>\n",
    "\n",
    "You can select {'ja','de','es','fr','ko','pt','tr','zh-CN'} as of 20/3/2017."
   ]
  },
  {
   "cell_type": "code",
   "execution_count": 7,
   "metadata": {
    "collapsed": false,
    "deletable": true,
    "editable": true
   },
   "outputs": [],
   "source": [
    "TARGET_LANG = 'ja'\n",
    "\n",
    "TRANSLATE_CLIENT = Translate(TARGET_LANG)"
   ]
  },
  {
   "cell_type": "markdown",
   "metadata": {
    "deletable": true,
    "editable": true
   },
   "source": [
    "# Execute translations\n",
    "\n",
    "nmt = True : neural machine translation<br>\n",
    "nmt = False : previous version"
   ]
  },
  {
   "cell_type": "code",
   "execution_count": 8,
   "metadata": {
    "collapsed": false,
    "deletable": true,
    "editable": true
   },
   "outputs": [],
   "source": [
    "TRANSLATE_CLIENT.check_arxiv(BULK, nmt=True)"
   ]
  },
  {
   "cell_type": "code",
   "execution_count": null,
   "metadata": {
    "collapsed": true
   },
   "outputs": [],
   "source": []
  }
 ],
 "metadata": {
  "kernelspec": {
   "display_name": "Python 3",
   "language": "python",
   "name": "python3"
  },
  "language_info": {
   "codemirror_mode": {
    "name": "ipython",
    "version": 3
   },
   "file_extension": ".py",
   "mimetype": "text/x-python",
   "name": "python",
   "nbconvert_exporter": "python",
   "pygments_lexer": "ipython3",
   "version": "3.5.2"
  }
 },
 "nbformat": 4,
 "nbformat_minor": 2
}
